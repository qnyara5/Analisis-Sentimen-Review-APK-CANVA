{
  "nbformat": 4,
  "nbformat_minor": 0,
  "metadata": {
    "colab": {
      "provenance": []
    },
    "kernelspec": {
      "name": "python3",
      "display_name": "Python 3"
    },
    "language_info": {
      "name": "python"
    }
  },
  "cells": [
    {
      "cell_type": "markdown",
      "source": [
        "# **Scraping Data Review Aplikasi Canva di Play Store**\n"
      ],
      "metadata": {
        "id": "kZLRMFl0JyyQ"
      }
    },
    {
      "cell_type": "markdown",
      "source": [
        "Dataset yang digunakan pada proyek submisi ini adalah **review aplikasi Canva di Play Store**. Dataset diperoleh melalui proses scraping menggunakan library Python bernama google_play_scraper.\n",
        "\n",
        "Link Aplikasi Canva:\n",
        "https://play.google.com/store/apps/details?id=com.canva.editor\n",
        "\n",
        "Data ulasan yang akan di-scrape berasal dari review pengguna terhadap aplikasi GoPay di Google Play Store melalui tautan di atas.\n",
        "\n"
      ],
      "metadata": {
        "id": "hssSDn-5n3HR"
      }
    },
    {
      "cell_type": "markdown",
      "source": [
        "# **1. Import Library**"
      ],
      "metadata": {
        "id": "fKADPWcFKlj3"
      }
    },
    {
      "cell_type": "code",
      "source": [
        "!pip install google-play-scraper"
      ],
      "metadata": {
        "colab": {
          "base_uri": "https://localhost:8080/"
        },
        "id": "HE8jysNth6qK",
        "outputId": "ad9eeb27-0ff8-46da-f503-321e28d8510e"
      },
      "execution_count": null,
      "outputs": [
        {
          "output_type": "stream",
          "name": "stdout",
          "text": [
            "Requirement already satisfied: google-play-scraper in /usr/local/lib/python3.11/dist-packages (1.2.7)\n"
          ]
        }
      ]
    },
    {
      "cell_type": "code",
      "source": [
        "# Mengimpor pustaka google_play_scraper untuk mengakses ulasan dan informasi aplikasi dari Google Play Store.\n",
        "from google_play_scraper import app, reviews, Sort, reviews_all\n",
        "import pandas as pd\n"
      ],
      "metadata": {
        "id": "BlmvjLY9M4Yj"
      },
      "execution_count": null,
      "outputs": []
    },
    {
      "cell_type": "markdown",
      "source": [
        "# **2. Scraping Dataset**"
      ],
      "metadata": {
        "id": "kGWmCdvOm_8t"
      }
    },
    {
      "cell_type": "code",
      "source": [
        "# Mengambil semua ulasan dari aplikasi dengan ID 'com.gojek.gopay' di Google Play Store.\n",
        "# Proses scraping mungkin memerlukan beberapa saat tergantung pada jumlah ulasan yang ada.\n",
        "scrapreview = reviews_all(\n",
        "    'com.canva.editor',     # ID aplikasi\n",
        "    lang='id',             # Bahasa ulasan\n",
        "    country='id',          # Negara\n",
        "    sort=Sort.MOST_RELEVANT, # Urutan ulasan (default: Sort.MOST_RELEVANT)\n",
        "    count=10000             # Jumlah maksimum ulasan yang ingin diambil\n",
        ")"
      ],
      "metadata": {
        "id": "ChC0YoNtlZLe"
      },
      "execution_count": null,
      "outputs": []
    },
    {
      "cell_type": "code",
      "source": [
        "# Membuat DataFrame dari hasil scraping\n",
        "review_df = pd.DataFrame(scrapreview)\n",
        "review_df.head()"
      ],
      "metadata": {
        "colab": {
          "base_uri": "https://localhost:8080/",
          "height": 605
        },
        "id": "7ODgYcnymWOp",
        "outputId": "665deae5-8de3-4b47-d79a-1c408a5c12c6"
      },
      "execution_count": null,
      "outputs": [
        {
          "output_type": "execute_result",
          "data": {
            "text/plain": [
              "                               reviewId         userName  \\\n",
              "0  be62dda0-4bc2-43ff-ae46-ef4df55f4ce5  Pengguna Google   \n",
              "1  0904cdbc-b8e6-4a02-84aa-d69d2e9758fa  Pengguna Google   \n",
              "2  6b37ee2e-30b6-4168-8a1c-eb7fc9c0966f  Pengguna Google   \n",
              "3  a887be29-6865-4388-ad12-acca9a616efe  Pengguna Google   \n",
              "4  e1e5c544-59b9-4b38-8fb2-3470f1df3d58  Pengguna Google   \n",
              "\n",
              "                                           userImage  \\\n",
              "0  https://play-lh.googleusercontent.com/EGemoI2N...   \n",
              "1  https://play-lh.googleusercontent.com/EGemoI2N...   \n",
              "2  https://play-lh.googleusercontent.com/EGemoI2N...   \n",
              "3  https://play-lh.googleusercontent.com/EGemoI2N...   \n",
              "4  https://play-lh.googleusercontent.com/EGemoI2N...   \n",
              "\n",
              "                                             content  score  thumbsUpCount  \\\n",
              "0  4 dulu yaa, punya ku ko opsi galeri nya cuma a...      4              8   \n",
              "1  baguss bangett, sangat membantu aku mendesain ...      5             58   \n",
              "2  Gila bugg nya, loading di proyek 2 menit seten...      4              2   \n",
              "3  asli kenapa makin di update makin gak bagus tr...      1              3   \n",
              "4  Aplikasi nya tidak bisa dibuka untuk di bebera...      1             30   \n",
              "\n",
              "  reviewCreatedVersion                  at  \\\n",
              "0              2.308.0 2025-04-22 13:09:49   \n",
              "1              2.308.0 2025-04-18 00:50:48   \n",
              "2              2.308.0 2025-04-22 11:03:18   \n",
              "3              2.306.1 2025-04-19 05:57:04   \n",
              "4              2.306.1 2025-04-12 03:01:41   \n",
              "\n",
              "                                        replyContent           repliedAt  \\\n",
              "0  Halo Padillhan, terima kasih atas masukan Anda... 2025-04-24 07:03:51   \n",
              "1                                               None                 NaT   \n",
              "2  Hai Nurdiyansah, terima kasih telah menggunaka... 2025-04-23 11:20:35   \n",
              "3  Hai Muhammad, terima kasih telah menghubungi C... 2025-04-21 01:57:58   \n",
              "4  Halo Dheas, terima kasih telah menghubungi Can... 2025-04-14 06:41:56   \n",
              "\n",
              "  appVersion  \n",
              "0    2.308.0  \n",
              "1    2.308.0  \n",
              "2    2.308.0  \n",
              "3    2.306.1  \n",
              "4    2.306.1  "
            ],
            "text/html": [
              "\n",
              "  <div id=\"df-07e2d2ca-e0dc-4457-b5bc-25576e5db917\" class=\"colab-df-container\">\n",
              "    <div>\n",
              "<style scoped>\n",
              "    .dataframe tbody tr th:only-of-type {\n",
              "        vertical-align: middle;\n",
              "    }\n",
              "\n",
              "    .dataframe tbody tr th {\n",
              "        vertical-align: top;\n",
              "    }\n",
              "\n",
              "    .dataframe thead th {\n",
              "        text-align: right;\n",
              "    }\n",
              "</style>\n",
              "<table border=\"1\" class=\"dataframe\">\n",
              "  <thead>\n",
              "    <tr style=\"text-align: right;\">\n",
              "      <th></th>\n",
              "      <th>reviewId</th>\n",
              "      <th>userName</th>\n",
              "      <th>userImage</th>\n",
              "      <th>content</th>\n",
              "      <th>score</th>\n",
              "      <th>thumbsUpCount</th>\n",
              "      <th>reviewCreatedVersion</th>\n",
              "      <th>at</th>\n",
              "      <th>replyContent</th>\n",
              "      <th>repliedAt</th>\n",
              "      <th>appVersion</th>\n",
              "    </tr>\n",
              "  </thead>\n",
              "  <tbody>\n",
              "    <tr>\n",
              "      <th>0</th>\n",
              "      <td>be62dda0-4bc2-43ff-ae46-ef4df55f4ce5</td>\n",
              "      <td>Pengguna Google</td>\n",
              "      <td>https://play-lh.googleusercontent.com/EGemoI2N...</td>\n",
              "      <td>4 dulu yaa, punya ku ko opsi galeri nya cuma a...</td>\n",
              "      <td>4</td>\n",
              "      <td>8</td>\n",
              "      <td>2.308.0</td>\n",
              "      <td>2025-04-22 13:09:49</td>\n",
              "      <td>Halo Padillhan, terima kasih atas masukan Anda...</td>\n",
              "      <td>2025-04-24 07:03:51</td>\n",
              "      <td>2.308.0</td>\n",
              "    </tr>\n",
              "    <tr>\n",
              "      <th>1</th>\n",
              "      <td>0904cdbc-b8e6-4a02-84aa-d69d2e9758fa</td>\n",
              "      <td>Pengguna Google</td>\n",
              "      <td>https://play-lh.googleusercontent.com/EGemoI2N...</td>\n",
              "      <td>baguss bangett, sangat membantu aku mendesain ...</td>\n",
              "      <td>5</td>\n",
              "      <td>58</td>\n",
              "      <td>2.308.0</td>\n",
              "      <td>2025-04-18 00:50:48</td>\n",
              "      <td>None</td>\n",
              "      <td>NaT</td>\n",
              "      <td>2.308.0</td>\n",
              "    </tr>\n",
              "    <tr>\n",
              "      <th>2</th>\n",
              "      <td>6b37ee2e-30b6-4168-8a1c-eb7fc9c0966f</td>\n",
              "      <td>Pengguna Google</td>\n",
              "      <td>https://play-lh.googleusercontent.com/EGemoI2N...</td>\n",
              "      <td>Gila bugg nya, loading di proyek 2 menit seten...</td>\n",
              "      <td>4</td>\n",
              "      <td>2</td>\n",
              "      <td>2.308.0</td>\n",
              "      <td>2025-04-22 11:03:18</td>\n",
              "      <td>Hai Nurdiyansah, terima kasih telah menggunaka...</td>\n",
              "      <td>2025-04-23 11:20:35</td>\n",
              "      <td>2.308.0</td>\n",
              "    </tr>\n",
              "    <tr>\n",
              "      <th>3</th>\n",
              "      <td>a887be29-6865-4388-ad12-acca9a616efe</td>\n",
              "      <td>Pengguna Google</td>\n",
              "      <td>https://play-lh.googleusercontent.com/EGemoI2N...</td>\n",
              "      <td>asli kenapa makin di update makin gak bagus tr...</td>\n",
              "      <td>1</td>\n",
              "      <td>3</td>\n",
              "      <td>2.306.1</td>\n",
              "      <td>2025-04-19 05:57:04</td>\n",
              "      <td>Hai Muhammad, terima kasih telah menghubungi C...</td>\n",
              "      <td>2025-04-21 01:57:58</td>\n",
              "      <td>2.306.1</td>\n",
              "    </tr>\n",
              "    <tr>\n",
              "      <th>4</th>\n",
              "      <td>e1e5c544-59b9-4b38-8fb2-3470f1df3d58</td>\n",
              "      <td>Pengguna Google</td>\n",
              "      <td>https://play-lh.googleusercontent.com/EGemoI2N...</td>\n",
              "      <td>Aplikasi nya tidak bisa dibuka untuk di bebera...</td>\n",
              "      <td>1</td>\n",
              "      <td>30</td>\n",
              "      <td>2.306.1</td>\n",
              "      <td>2025-04-12 03:01:41</td>\n",
              "      <td>Halo Dheas, terima kasih telah menghubungi Can...</td>\n",
              "      <td>2025-04-14 06:41:56</td>\n",
              "      <td>2.306.1</td>\n",
              "    </tr>\n",
              "  </tbody>\n",
              "</table>\n",
              "</div>\n",
              "    <div class=\"colab-df-buttons\">\n",
              "\n",
              "  <div class=\"colab-df-container\">\n",
              "    <button class=\"colab-df-convert\" onclick=\"convertToInteractive('df-07e2d2ca-e0dc-4457-b5bc-25576e5db917')\"\n",
              "            title=\"Convert this dataframe to an interactive table.\"\n",
              "            style=\"display:none;\">\n",
              "\n",
              "  <svg xmlns=\"http://www.w3.org/2000/svg\" height=\"24px\" viewBox=\"0 -960 960 960\">\n",
              "    <path d=\"M120-120v-720h720v720H120Zm60-500h600v-160H180v160Zm220 220h160v-160H400v160Zm0 220h160v-160H400v160ZM180-400h160v-160H180v160Zm440 0h160v-160H620v160ZM180-180h160v-160H180v160Zm440 0h160v-160H620v160Z\"/>\n",
              "  </svg>\n",
              "    </button>\n",
              "\n",
              "  <style>\n",
              "    .colab-df-container {\n",
              "      display:flex;\n",
              "      gap: 12px;\n",
              "    }\n",
              "\n",
              "    .colab-df-convert {\n",
              "      background-color: #E8F0FE;\n",
              "      border: none;\n",
              "      border-radius: 50%;\n",
              "      cursor: pointer;\n",
              "      display: none;\n",
              "      fill: #1967D2;\n",
              "      height: 32px;\n",
              "      padding: 0 0 0 0;\n",
              "      width: 32px;\n",
              "    }\n",
              "\n",
              "    .colab-df-convert:hover {\n",
              "      background-color: #E2EBFA;\n",
              "      box-shadow: 0px 1px 2px rgba(60, 64, 67, 0.3), 0px 1px 3px 1px rgba(60, 64, 67, 0.15);\n",
              "      fill: #174EA6;\n",
              "    }\n",
              "\n",
              "    .colab-df-buttons div {\n",
              "      margin-bottom: 4px;\n",
              "    }\n",
              "\n",
              "    [theme=dark] .colab-df-convert {\n",
              "      background-color: #3B4455;\n",
              "      fill: #D2E3FC;\n",
              "    }\n",
              "\n",
              "    [theme=dark] .colab-df-convert:hover {\n",
              "      background-color: #434B5C;\n",
              "      box-shadow: 0px 1px 3px 1px rgba(0, 0, 0, 0.15);\n",
              "      filter: drop-shadow(0px 1px 2px rgba(0, 0, 0, 0.3));\n",
              "      fill: #FFFFFF;\n",
              "    }\n",
              "  </style>\n",
              "\n",
              "    <script>\n",
              "      const buttonEl =\n",
              "        document.querySelector('#df-07e2d2ca-e0dc-4457-b5bc-25576e5db917 button.colab-df-convert');\n",
              "      buttonEl.style.display =\n",
              "        google.colab.kernel.accessAllowed ? 'block' : 'none';\n",
              "\n",
              "      async function convertToInteractive(key) {\n",
              "        const element = document.querySelector('#df-07e2d2ca-e0dc-4457-b5bc-25576e5db917');\n",
              "        const dataTable =\n",
              "          await google.colab.kernel.invokeFunction('convertToInteractive',\n",
              "                                                    [key], {});\n",
              "        if (!dataTable) return;\n",
              "\n",
              "        const docLinkHtml = 'Like what you see? Visit the ' +\n",
              "          '<a target=\"_blank\" href=https://colab.research.google.com/notebooks/data_table.ipynb>data table notebook</a>'\n",
              "          + ' to learn more about interactive tables.';\n",
              "        element.innerHTML = '';\n",
              "        dataTable['output_type'] = 'display_data';\n",
              "        await google.colab.output.renderOutput(dataTable, element);\n",
              "        const docLink = document.createElement('div');\n",
              "        docLink.innerHTML = docLinkHtml;\n",
              "        element.appendChild(docLink);\n",
              "      }\n",
              "    </script>\n",
              "  </div>\n",
              "\n",
              "\n",
              "    <div id=\"df-fcd078a7-01d9-40f9-9280-766151ee66f3\">\n",
              "      <button class=\"colab-df-quickchart\" onclick=\"quickchart('df-fcd078a7-01d9-40f9-9280-766151ee66f3')\"\n",
              "                title=\"Suggest charts\"\n",
              "                style=\"display:none;\">\n",
              "\n",
              "<svg xmlns=\"http://www.w3.org/2000/svg\" height=\"24px\"viewBox=\"0 0 24 24\"\n",
              "     width=\"24px\">\n",
              "    <g>\n",
              "        <path d=\"M19 3H5c-1.1 0-2 .9-2 2v14c0 1.1.9 2 2 2h14c1.1 0 2-.9 2-2V5c0-1.1-.9-2-2-2zM9 17H7v-7h2v7zm4 0h-2V7h2v10zm4 0h-2v-4h2v4z\"/>\n",
              "    </g>\n",
              "</svg>\n",
              "      </button>\n",
              "\n",
              "<style>\n",
              "  .colab-df-quickchart {\n",
              "      --bg-color: #E8F0FE;\n",
              "      --fill-color: #1967D2;\n",
              "      --hover-bg-color: #E2EBFA;\n",
              "      --hover-fill-color: #174EA6;\n",
              "      --disabled-fill-color: #AAA;\n",
              "      --disabled-bg-color: #DDD;\n",
              "  }\n",
              "\n",
              "  [theme=dark] .colab-df-quickchart {\n",
              "      --bg-color: #3B4455;\n",
              "      --fill-color: #D2E3FC;\n",
              "      --hover-bg-color: #434B5C;\n",
              "      --hover-fill-color: #FFFFFF;\n",
              "      --disabled-bg-color: #3B4455;\n",
              "      --disabled-fill-color: #666;\n",
              "  }\n",
              "\n",
              "  .colab-df-quickchart {\n",
              "    background-color: var(--bg-color);\n",
              "    border: none;\n",
              "    border-radius: 50%;\n",
              "    cursor: pointer;\n",
              "    display: none;\n",
              "    fill: var(--fill-color);\n",
              "    height: 32px;\n",
              "    padding: 0;\n",
              "    width: 32px;\n",
              "  }\n",
              "\n",
              "  .colab-df-quickchart:hover {\n",
              "    background-color: var(--hover-bg-color);\n",
              "    box-shadow: 0 1px 2px rgba(60, 64, 67, 0.3), 0 1px 3px 1px rgba(60, 64, 67, 0.15);\n",
              "    fill: var(--button-hover-fill-color);\n",
              "  }\n",
              "\n",
              "  .colab-df-quickchart-complete:disabled,\n",
              "  .colab-df-quickchart-complete:disabled:hover {\n",
              "    background-color: var(--disabled-bg-color);\n",
              "    fill: var(--disabled-fill-color);\n",
              "    box-shadow: none;\n",
              "  }\n",
              "\n",
              "  .colab-df-spinner {\n",
              "    border: 2px solid var(--fill-color);\n",
              "    border-color: transparent;\n",
              "    border-bottom-color: var(--fill-color);\n",
              "    animation:\n",
              "      spin 1s steps(1) infinite;\n",
              "  }\n",
              "\n",
              "  @keyframes spin {\n",
              "    0% {\n",
              "      border-color: transparent;\n",
              "      border-bottom-color: var(--fill-color);\n",
              "      border-left-color: var(--fill-color);\n",
              "    }\n",
              "    20% {\n",
              "      border-color: transparent;\n",
              "      border-left-color: var(--fill-color);\n",
              "      border-top-color: var(--fill-color);\n",
              "    }\n",
              "    30% {\n",
              "      border-color: transparent;\n",
              "      border-left-color: var(--fill-color);\n",
              "      border-top-color: var(--fill-color);\n",
              "      border-right-color: var(--fill-color);\n",
              "    }\n",
              "    40% {\n",
              "      border-color: transparent;\n",
              "      border-right-color: var(--fill-color);\n",
              "      border-top-color: var(--fill-color);\n",
              "    }\n",
              "    60% {\n",
              "      border-color: transparent;\n",
              "      border-right-color: var(--fill-color);\n",
              "    }\n",
              "    80% {\n",
              "      border-color: transparent;\n",
              "      border-right-color: var(--fill-color);\n",
              "      border-bottom-color: var(--fill-color);\n",
              "    }\n",
              "    90% {\n",
              "      border-color: transparent;\n",
              "      border-bottom-color: var(--fill-color);\n",
              "    }\n",
              "  }\n",
              "</style>\n",
              "\n",
              "      <script>\n",
              "        async function quickchart(key) {\n",
              "          const quickchartButtonEl =\n",
              "            document.querySelector('#' + key + ' button');\n",
              "          quickchartButtonEl.disabled = true;  // To prevent multiple clicks.\n",
              "          quickchartButtonEl.classList.add('colab-df-spinner');\n",
              "          try {\n",
              "            const charts = await google.colab.kernel.invokeFunction(\n",
              "                'suggestCharts', [key], {});\n",
              "          } catch (error) {\n",
              "            console.error('Error during call to suggestCharts:', error);\n",
              "          }\n",
              "          quickchartButtonEl.classList.remove('colab-df-spinner');\n",
              "          quickchartButtonEl.classList.add('colab-df-quickchart-complete');\n",
              "        }\n",
              "        (() => {\n",
              "          let quickchartButtonEl =\n",
              "            document.querySelector('#df-fcd078a7-01d9-40f9-9280-766151ee66f3 button');\n",
              "          quickchartButtonEl.style.display =\n",
              "            google.colab.kernel.accessAllowed ? 'block' : 'none';\n",
              "        })();\n",
              "      </script>\n",
              "    </div>\n",
              "\n",
              "    </div>\n",
              "  </div>\n"
            ],
            "application/vnd.google.colaboratory.intrinsic+json": {
              "type": "dataframe",
              "variable_name": "review_df"
            }
          },
          "metadata": {},
          "execution_count": 6
        }
      ]
    },
    {
      "cell_type": "code",
      "source": [
        "# Menampilkan informasi dataset\n",
        "review_df.info()"
      ],
      "metadata": {
        "colab": {
          "base_uri": "https://localhost:8080/"
        },
        "id": "YZAzZuPFr3GY",
        "outputId": "24ac4da8-6a7b-43f1-8cec-012bd090f7cd"
      },
      "execution_count": null,
      "outputs": [
        {
          "output_type": "stream",
          "name": "stdout",
          "text": [
            "<class 'pandas.core.frame.DataFrame'>\n",
            "RangeIndex: 320349 entries, 0 to 320348\n",
            "Data columns (total 11 columns):\n",
            " #   Column                Non-Null Count   Dtype         \n",
            "---  ------                --------------   -----         \n",
            " 0   reviewId              320349 non-null  object        \n",
            " 1   userName              320349 non-null  object        \n",
            " 2   userImage             320349 non-null  object        \n",
            " 3   content               320348 non-null  object        \n",
            " 4   score                 320349 non-null  int64         \n",
            " 5   thumbsUpCount         320349 non-null  int64         \n",
            " 6   reviewCreatedVersion  288553 non-null  object        \n",
            " 7   at                    320349 non-null  datetime64[ns]\n",
            " 8   replyContent          75577 non-null   object        \n",
            " 9   repliedAt             75577 non-null   datetime64[ns]\n",
            " 10  appVersion            288553 non-null  object        \n",
            "dtypes: datetime64[ns](2), int64(2), object(7)\n",
            "memory usage: 26.9+ MB\n"
          ]
        }
      ]
    },
    {
      "cell_type": "code",
      "source": [
        "# Menghapus nilai kosong dari DataFrame\n",
        "df_cleaned = review_df.dropna()\n",
        "\n",
        "# Menghapus duplikasi berdasarkan kolom 'content' (isi ulasan)\n",
        "df_cleaned = df_cleaned.drop_duplicates(subset='content')\n",
        "\n",
        "# Menampilkan informasi dataset\n",
        "df_cleaned.info()"
      ],
      "metadata": {
        "colab": {
          "base_uri": "https://localhost:8080/"
        },
        "id": "hRRIvYzIvY9x",
        "outputId": "c6718921-fe02-46dd-892e-f3dd04203312"
      },
      "execution_count": null,
      "outputs": [
        {
          "output_type": "stream",
          "name": "stdout",
          "text": [
            "<class 'pandas.core.frame.DataFrame'>\n",
            "Index: 35705 entries, 0 to 303896\n",
            "Data columns (total 11 columns):\n",
            " #   Column                Non-Null Count  Dtype         \n",
            "---  ------                --------------  -----         \n",
            " 0   reviewId              35705 non-null  object        \n",
            " 1   userName              35705 non-null  object        \n",
            " 2   userImage             35705 non-null  object        \n",
            " 3   content               35705 non-null  object        \n",
            " 4   score                 35705 non-null  int64         \n",
            " 5   thumbsUpCount         35705 non-null  int64         \n",
            " 6   reviewCreatedVersion  35705 non-null  object        \n",
            " 7   at                    35705 non-null  datetime64[ns]\n",
            " 8   replyContent          35705 non-null  object        \n",
            " 9   repliedAt             35705 non-null  datetime64[ns]\n",
            " 10  appVersion            35705 non-null  object        \n",
            "dtypes: datetime64[ns](2), int64(2), object(7)\n",
            "memory usage: 3.3+ MB\n"
          ]
        }
      ]
    },
    {
      "cell_type": "code",
      "source": [
        "# Menghitung jumlah baris dan kolom dalam DataFrame\n",
        "jumlah_ulasan, jumlah_kolom = df_cleaned.shape\n",
        "df_cleaned.shape"
      ],
      "metadata": {
        "colab": {
          "base_uri": "https://localhost:8080/"
        },
        "id": "S_EIgF8BvoD4",
        "outputId": "6ace1b5c-45a3-442f-b99b-401cddbfb70c"
      },
      "execution_count": null,
      "outputs": [
        {
          "output_type": "execute_result",
          "data": {
            "text/plain": [
              "(35705, 11)"
            ]
          },
          "metadata": {},
          "execution_count": 9
        }
      ]
    },
    {
      "cell_type": "markdown",
      "source": [
        "# **4. Mengeksport Data**\n",
        "\n",
        "Simpan hasilnya ke dalam file CSV."
      ],
      "metadata": {
        "id": "jaYP1fx5VgWO"
      }
    },
    {
      "cell_type": "code",
      "source": [
        "# Mengekspor hasil bersih ke file CSV\n",
        "df_cleaned.to_csv('canva_reviews_cleaned.csv', index=False, encoding='utf-8-sig')"
      ],
      "metadata": {
        "id": "fkbg_o80aRSH"
      },
      "execution_count": null,
      "outputs": []
    }
  ]
}
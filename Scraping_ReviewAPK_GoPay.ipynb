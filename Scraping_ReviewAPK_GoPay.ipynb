{
  "nbformat": 4,
  "nbformat_minor": 0,
  "metadata": {
    "colab": {
      "provenance": []
    },
    "kernelspec": {
      "name": "python3",
      "display_name": "Python 3"
    },
    "language_info": {
      "name": "python"
    }
  },
  "cells": [
    {
      "cell_type": "markdown",
      "source": [
        "# **Scraping Data Review Aplikasi Gopay di Play Store**\n"
      ],
      "metadata": {
        "id": "kZLRMFl0JyyQ"
      }
    },
    {
      "cell_type": "markdown",
      "source": [
        "Dataset yang digunakan pada proyek submisi ini adalah **review aplikasi GoPay di Play Store**. Dataset diperoleh melalui proses scraping menggunakan library Python bernama google_play_scraper.\n",
        "\n",
        "Link Aplikasi GoPay:\n",
        "https://play.google.com/store/apps/details?id=com.gojek.gopay&pcampaignid=web_share\n",
        "\n",
        "Data ulasan yang akan di-scrape berasal dari review pengguna terhadap aplikasi GoPay di Google Play Store melalui tautan di atas.\n",
        "\n"
      ],
      "metadata": {
        "id": "hssSDn-5n3HR"
      }
    },
    {
      "cell_type": "markdown",
      "source": [
        "# **1. Import Library**"
      ],
      "metadata": {
        "id": "fKADPWcFKlj3"
      }
    },
    {
      "cell_type": "code",
      "source": [
        "# Mengimpor pustaka google_play_scraper untuk mengakses ulasan dan informasi aplikasi dari Google Play Store.\n",
        "from google_play_scraper import app, reviews, Sort, reviews_all\n",
        "import pandas as pd\n",
        ""
      ],
      "metadata": {
        "id": "BlmvjLY9M4Yj"
      },
      "execution_count": 153,
      "outputs": []
    },
    {
      "cell_type": "markdown",
      "source": [
        "# **2. Scraping Dataset**"
      ],
      "metadata": {
        "id": "kGWmCdvOm_8t"
      }
    },
    {
      "cell_type": "code",
      "source": [
        "# Mengambil semua ulasan dari aplikasi dengan ID 'com.gojek.gopay' di Google Play Store.\n",
        "# Proses scraping mungkin memerlukan beberapa saat tergantung pada jumlah ulasan yang ada.\n",
        "scrapreview = reviews_all(\n",
        "    'com.gojek.gopay',     # ID aplikasi\n",
        "    lang='id',             # Bahasa ulasan (default: 'en')\n",
        "    country='id',          # Negara (default: 'us')\n",
        "    sort=Sort.MOST_RELEVANT, # Urutan ulasan (default: Sort.MOST_RELEVANT)\n",
        "    count=10000             # Jumlah maksimum ulasan yang ingin diambil\n",
        ")"
      ],
      "metadata": {
        "id": "ChC0YoNtlZLe"
      },
      "execution_count": 154,
      "outputs": []
    },
    {
      "cell_type": "code",
      "source": [
        "# Membuat DataFrame dari hasil scraping\n",
        "review_df = pd.DataFrame(scrapreview)\n",
        "review_df.head()"
      ],
      "metadata": {
        "colab": {
          "base_uri": "https://localhost:8080/",
          "height": 487
        },
        "id": "7ODgYcnymWOp",
        "outputId": "927e07c1-0915-4151-a051-95d3de0a7404"
      },
      "execution_count": 155,
      "outputs": [
        {
          "output_type": "execute_result",
          "data": {
            "text/plain": [
              "                               reviewId         userName  \\\n",
              "0  6393f631-adcf-40be-aeec-ac4e713bf7f3  Pengguna Google   \n",
              "1  dc64ea1b-406a-429c-b170-9a38038656fe  Pengguna Google   \n",
              "2  bde95a83-7e31-439f-a180-88c0f2a42840  Pengguna Google   \n",
              "3  7bb49aa1-d6b1-473d-9d38-19810d38a691  Pengguna Google   \n",
              "4  e020c77d-cf9b-48b7-b4a7-4d309d496f04  Pengguna Google   \n",
              "\n",
              "                                           userImage  \\\n",
              "0  https://play-lh.googleusercontent.com/EGemoI2N...   \n",
              "1  https://play-lh.googleusercontent.com/EGemoI2N...   \n",
              "2  https://play-lh.googleusercontent.com/EGemoI2N...   \n",
              "3  https://play-lh.googleusercontent.com/EGemoI2N...   \n",
              "4  https://play-lh.googleusercontent.com/EGemoI2N...   \n",
              "\n",
              "                                             content  score  thumbsUpCount  \\\n",
              "0  topup paket data nggak masuk malah suruh chat ...      1            271   \n",
              "1  tolong dong kakk, ini aku bayar token PLN dela...      1             52   \n",
              "2  kecewa sama gopay dari tadi saya top up e wall...      1             37   \n",
              "3  Aplikasinya membingunkan. Semua fiturnya harus...      2            342   \n",
              "4  Mohon di perbaiki lagi perihal top up uang ele...      3            200   \n",
              "\n",
              "  reviewCreatedVersion                  at  \\\n",
              "0               1.45.0 2025-04-16 14:26:32   \n",
              "1               1.45.0 2025-04-16 13:08:26   \n",
              "2               1.45.0 2025-04-15 19:05:07   \n",
              "3               1.40.1 2025-02-05 01:21:13   \n",
              "4               1.40.1 2025-02-06 19:27:43   \n",
              "\n",
              "                                        replyContent           repliedAt  \\\n",
              "0  Hai Kak Ayustiva, mohon maaf telah membuat Kak... 2025-04-16 15:29:00   \n",
              "1  Hai Kak Ziah, mohon maaf telah membuat Kakak k... 2025-04-16 14:13:54   \n",
              "2  Hai Kak Lukman, mohon maaf atas ketidaknyamana... 2025-04-16 00:05:38   \n",
              "3  Hai Kak Puji, mohon maaf atas ketidaknyamanann... 2025-02-05 03:01:18   \n",
              "4  Hai Kak @Paceapse, mohon maaf atas ketidaknyam... 2025-02-07 00:23:13   \n",
              "\n",
              "  appVersion  \n",
              "0     1.45.0  \n",
              "1     1.45.0  \n",
              "2     1.45.0  \n",
              "3     1.40.1  \n",
              "4     1.40.1  "
            ],
            "text/html": [
              "\n",
              "  <div id=\"df-abfdc1d9-dd07-459c-9805-cbeebb04a3af\" class=\"colab-df-container\">\n",
              "    <div>\n",
              "<style scoped>\n",
              "    .dataframe tbody tr th:only-of-type {\n",
              "        vertical-align: middle;\n",
              "    }\n",
              "\n",
              "    .dataframe tbody tr th {\n",
              "        vertical-align: top;\n",
              "    }\n",
              "\n",
              "    .dataframe thead th {\n",
              "        text-align: right;\n",
              "    }\n",
              "</style>\n",
              "<table border=\"1\" class=\"dataframe\">\n",
              "  <thead>\n",
              "    <tr style=\"text-align: right;\">\n",
              "      <th></th>\n",
              "      <th>reviewId</th>\n",
              "      <th>userName</th>\n",
              "      <th>userImage</th>\n",
              "      <th>content</th>\n",
              "      <th>score</th>\n",
              "      <th>thumbsUpCount</th>\n",
              "      <th>reviewCreatedVersion</th>\n",
              "      <th>at</th>\n",
              "      <th>replyContent</th>\n",
              "      <th>repliedAt</th>\n",
              "      <th>appVersion</th>\n",
              "    </tr>\n",
              "  </thead>\n",
              "  <tbody>\n",
              "    <tr>\n",
              "      <th>0</th>\n",
              "      <td>6393f631-adcf-40be-aeec-ac4e713bf7f3</td>\n",
              "      <td>Pengguna Google</td>\n",
              "      <td>https://play-lh.googleusercontent.com/EGemoI2N...</td>\n",
              "      <td>topup paket data nggak masuk malah suruh chat ...</td>\n",
              "      <td>1</td>\n",
              "      <td>271</td>\n",
              "      <td>1.45.0</td>\n",
              "      <td>2025-04-16 14:26:32</td>\n",
              "      <td>Hai Kak Ayustiva, mohon maaf telah membuat Kak...</td>\n",
              "      <td>2025-04-16 15:29:00</td>\n",
              "      <td>1.45.0</td>\n",
              "    </tr>\n",
              "    <tr>\n",
              "      <th>1</th>\n",
              "      <td>dc64ea1b-406a-429c-b170-9a38038656fe</td>\n",
              "      <td>Pengguna Google</td>\n",
              "      <td>https://play-lh.googleusercontent.com/EGemoI2N...</td>\n",
              "      <td>tolong dong kakk, ini aku bayar token PLN dela...</td>\n",
              "      <td>1</td>\n",
              "      <td>52</td>\n",
              "      <td>1.45.0</td>\n",
              "      <td>2025-04-16 13:08:26</td>\n",
              "      <td>Hai Kak Ziah, mohon maaf telah membuat Kakak k...</td>\n",
              "      <td>2025-04-16 14:13:54</td>\n",
              "      <td>1.45.0</td>\n",
              "    </tr>\n",
              "    <tr>\n",
              "      <th>2</th>\n",
              "      <td>bde95a83-7e31-439f-a180-88c0f2a42840</td>\n",
              "      <td>Pengguna Google</td>\n",
              "      <td>https://play-lh.googleusercontent.com/EGemoI2N...</td>\n",
              "      <td>kecewa sama gopay dari tadi saya top up e wall...</td>\n",
              "      <td>1</td>\n",
              "      <td>37</td>\n",
              "      <td>1.45.0</td>\n",
              "      <td>2025-04-15 19:05:07</td>\n",
              "      <td>Hai Kak Lukman, mohon maaf atas ketidaknyamana...</td>\n",
              "      <td>2025-04-16 00:05:38</td>\n",
              "      <td>1.45.0</td>\n",
              "    </tr>\n",
              "    <tr>\n",
              "      <th>3</th>\n",
              "      <td>7bb49aa1-d6b1-473d-9d38-19810d38a691</td>\n",
              "      <td>Pengguna Google</td>\n",
              "      <td>https://play-lh.googleusercontent.com/EGemoI2N...</td>\n",
              "      <td>Aplikasinya membingunkan. Semua fiturnya harus...</td>\n",
              "      <td>2</td>\n",
              "      <td>342</td>\n",
              "      <td>1.40.1</td>\n",
              "      <td>2025-02-05 01:21:13</td>\n",
              "      <td>Hai Kak Puji, mohon maaf atas ketidaknyamanann...</td>\n",
              "      <td>2025-02-05 03:01:18</td>\n",
              "      <td>1.40.1</td>\n",
              "    </tr>\n",
              "    <tr>\n",
              "      <th>4</th>\n",
              "      <td>e020c77d-cf9b-48b7-b4a7-4d309d496f04</td>\n",
              "      <td>Pengguna Google</td>\n",
              "      <td>https://play-lh.googleusercontent.com/EGemoI2N...</td>\n",
              "      <td>Mohon di perbaiki lagi perihal top up uang ele...</td>\n",
              "      <td>3</td>\n",
              "      <td>200</td>\n",
              "      <td>1.40.1</td>\n",
              "      <td>2025-02-06 19:27:43</td>\n",
              "      <td>Hai Kak @Paceapse, mohon maaf atas ketidaknyam...</td>\n",
              "      <td>2025-02-07 00:23:13</td>\n",
              "      <td>1.40.1</td>\n",
              "    </tr>\n",
              "  </tbody>\n",
              "</table>\n",
              "</div>\n",
              "    <div class=\"colab-df-buttons\">\n",
              "\n",
              "  <div class=\"colab-df-container\">\n",
              "    <button class=\"colab-df-convert\" onclick=\"convertToInteractive('df-abfdc1d9-dd07-459c-9805-cbeebb04a3af')\"\n",
              "            title=\"Convert this dataframe to an interactive table.\"\n",
              "            style=\"display:none;\">\n",
              "\n",
              "  <svg xmlns=\"http://www.w3.org/2000/svg\" height=\"24px\" viewBox=\"0 -960 960 960\">\n",
              "    <path d=\"M120-120v-720h720v720H120Zm60-500h600v-160H180v160Zm220 220h160v-160H400v160Zm0 220h160v-160H400v160ZM180-400h160v-160H180v160Zm440 0h160v-160H620v160ZM180-180h160v-160H180v160Zm440 0h160v-160H620v160Z\"/>\n",
              "  </svg>\n",
              "    </button>\n",
              "\n",
              "  <style>\n",
              "    .colab-df-container {\n",
              "      display:flex;\n",
              "      gap: 12px;\n",
              "    }\n",
              "\n",
              "    .colab-df-convert {\n",
              "      background-color: #E8F0FE;\n",
              "      border: none;\n",
              "      border-radius: 50%;\n",
              "      cursor: pointer;\n",
              "      display: none;\n",
              "      fill: #1967D2;\n",
              "      height: 32px;\n",
              "      padding: 0 0 0 0;\n",
              "      width: 32px;\n",
              "    }\n",
              "\n",
              "    .colab-df-convert:hover {\n",
              "      background-color: #E2EBFA;\n",
              "      box-shadow: 0px 1px 2px rgba(60, 64, 67, 0.3), 0px 1px 3px 1px rgba(60, 64, 67, 0.15);\n",
              "      fill: #174EA6;\n",
              "    }\n",
              "\n",
              "    .colab-df-buttons div {\n",
              "      margin-bottom: 4px;\n",
              "    }\n",
              "\n",
              "    [theme=dark] .colab-df-convert {\n",
              "      background-color: #3B4455;\n",
              "      fill: #D2E3FC;\n",
              "    }\n",
              "\n",
              "    [theme=dark] .colab-df-convert:hover {\n",
              "      background-color: #434B5C;\n",
              "      box-shadow: 0px 1px 3px 1px rgba(0, 0, 0, 0.15);\n",
              "      filter: drop-shadow(0px 1px 2px rgba(0, 0, 0, 0.3));\n",
              "      fill: #FFFFFF;\n",
              "    }\n",
              "  </style>\n",
              "\n",
              "    <script>\n",
              "      const buttonEl =\n",
              "        document.querySelector('#df-abfdc1d9-dd07-459c-9805-cbeebb04a3af button.colab-df-convert');\n",
              "      buttonEl.style.display =\n",
              "        google.colab.kernel.accessAllowed ? 'block' : 'none';\n",
              "\n",
              "      async function convertToInteractive(key) {\n",
              "        const element = document.querySelector('#df-abfdc1d9-dd07-459c-9805-cbeebb04a3af');\n",
              "        const dataTable =\n",
              "          await google.colab.kernel.invokeFunction('convertToInteractive',\n",
              "                                                    [key], {});\n",
              "        if (!dataTable) return;\n",
              "\n",
              "        const docLinkHtml = 'Like what you see? Visit the ' +\n",
              "          '<a target=\"_blank\" href=https://colab.research.google.com/notebooks/data_table.ipynb>data table notebook</a>'\n",
              "          + ' to learn more about interactive tables.';\n",
              "        element.innerHTML = '';\n",
              "        dataTable['output_type'] = 'display_data';\n",
              "        await google.colab.output.renderOutput(dataTable, element);\n",
              "        const docLink = document.createElement('div');\n",
              "        docLink.innerHTML = docLinkHtml;\n",
              "        element.appendChild(docLink);\n",
              "      }\n",
              "    </script>\n",
              "  </div>\n",
              "\n",
              "\n",
              "<div id=\"df-9598295f-9211-4b2b-8910-63842bea2968\">\n",
              "  <button class=\"colab-df-quickchart\" onclick=\"quickchart('df-9598295f-9211-4b2b-8910-63842bea2968')\"\n",
              "            title=\"Suggest charts\"\n",
              "            style=\"display:none;\">\n",
              "\n",
              "<svg xmlns=\"http://www.w3.org/2000/svg\" height=\"24px\"viewBox=\"0 0 24 24\"\n",
              "     width=\"24px\">\n",
              "    <g>\n",
              "        <path d=\"M19 3H5c-1.1 0-2 .9-2 2v14c0 1.1.9 2 2 2h14c1.1 0 2-.9 2-2V5c0-1.1-.9-2-2-2zM9 17H7v-7h2v7zm4 0h-2V7h2v10zm4 0h-2v-4h2v4z\"/>\n",
              "    </g>\n",
              "</svg>\n",
              "  </button>\n",
              "\n",
              "<style>\n",
              "  .colab-df-quickchart {\n",
              "      --bg-color: #E8F0FE;\n",
              "      --fill-color: #1967D2;\n",
              "      --hover-bg-color: #E2EBFA;\n",
              "      --hover-fill-color: #174EA6;\n",
              "      --disabled-fill-color: #AAA;\n",
              "      --disabled-bg-color: #DDD;\n",
              "  }\n",
              "\n",
              "  [theme=dark] .colab-df-quickchart {\n",
              "      --bg-color: #3B4455;\n",
              "      --fill-color: #D2E3FC;\n",
              "      --hover-bg-color: #434B5C;\n",
              "      --hover-fill-color: #FFFFFF;\n",
              "      --disabled-bg-color: #3B4455;\n",
              "      --disabled-fill-color: #666;\n",
              "  }\n",
              "\n",
              "  .colab-df-quickchart {\n",
              "    background-color: var(--bg-color);\n",
              "    border: none;\n",
              "    border-radius: 50%;\n",
              "    cursor: pointer;\n",
              "    display: none;\n",
              "    fill: var(--fill-color);\n",
              "    height: 32px;\n",
              "    padding: 0;\n",
              "    width: 32px;\n",
              "  }\n",
              "\n",
              "  .colab-df-quickchart:hover {\n",
              "    background-color: var(--hover-bg-color);\n",
              "    box-shadow: 0 1px 2px rgba(60, 64, 67, 0.3), 0 1px 3px 1px rgba(60, 64, 67, 0.15);\n",
              "    fill: var(--button-hover-fill-color);\n",
              "  }\n",
              "\n",
              "  .colab-df-quickchart-complete:disabled,\n",
              "  .colab-df-quickchart-complete:disabled:hover {\n",
              "    background-color: var(--disabled-bg-color);\n",
              "    fill: var(--disabled-fill-color);\n",
              "    box-shadow: none;\n",
              "  }\n",
              "\n",
              "  .colab-df-spinner {\n",
              "    border: 2px solid var(--fill-color);\n",
              "    border-color: transparent;\n",
              "    border-bottom-color: var(--fill-color);\n",
              "    animation:\n",
              "      spin 1s steps(1) infinite;\n",
              "  }\n",
              "\n",
              "  @keyframes spin {\n",
              "    0% {\n",
              "      border-color: transparent;\n",
              "      border-bottom-color: var(--fill-color);\n",
              "      border-left-color: var(--fill-color);\n",
              "    }\n",
              "    20% {\n",
              "      border-color: transparent;\n",
              "      border-left-color: var(--fill-color);\n",
              "      border-top-color: var(--fill-color);\n",
              "    }\n",
              "    30% {\n",
              "      border-color: transparent;\n",
              "      border-left-color: var(--fill-color);\n",
              "      border-top-color: var(--fill-color);\n",
              "      border-right-color: var(--fill-color);\n",
              "    }\n",
              "    40% {\n",
              "      border-color: transparent;\n",
              "      border-right-color: var(--fill-color);\n",
              "      border-top-color: var(--fill-color);\n",
              "    }\n",
              "    60% {\n",
              "      border-color: transparent;\n",
              "      border-right-color: var(--fill-color);\n",
              "    }\n",
              "    80% {\n",
              "      border-color: transparent;\n",
              "      border-right-color: var(--fill-color);\n",
              "      border-bottom-color: var(--fill-color);\n",
              "    }\n",
              "    90% {\n",
              "      border-color: transparent;\n",
              "      border-bottom-color: var(--fill-color);\n",
              "    }\n",
              "  }\n",
              "</style>\n",
              "\n",
              "  <script>\n",
              "    async function quickchart(key) {\n",
              "      const quickchartButtonEl =\n",
              "        document.querySelector('#' + key + ' button');\n",
              "      quickchartButtonEl.disabled = true;  // To prevent multiple clicks.\n",
              "      quickchartButtonEl.classList.add('colab-df-spinner');\n",
              "      try {\n",
              "        const charts = await google.colab.kernel.invokeFunction(\n",
              "            'suggestCharts', [key], {});\n",
              "      } catch (error) {\n",
              "        console.error('Error during call to suggestCharts:', error);\n",
              "      }\n",
              "      quickchartButtonEl.classList.remove('colab-df-spinner');\n",
              "      quickchartButtonEl.classList.add('colab-df-quickchart-complete');\n",
              "    }\n",
              "    (() => {\n",
              "      let quickchartButtonEl =\n",
              "        document.querySelector('#df-9598295f-9211-4b2b-8910-63842bea2968 button');\n",
              "      quickchartButtonEl.style.display =\n",
              "        google.colab.kernel.accessAllowed ? 'block' : 'none';\n",
              "    })();\n",
              "  </script>\n",
              "</div>\n",
              "\n",
              "    </div>\n",
              "  </div>\n"
            ],
            "application/vnd.google.colaboratory.intrinsic+json": {
              "type": "dataframe",
              "variable_name": "review_df"
            }
          },
          "metadata": {},
          "execution_count": 155
        }
      ]
    },
    {
      "cell_type": "code",
      "source": [
        "# Menampilkan informasi dataset\n",
        "review_df.info()"
      ],
      "metadata": {
        "colab": {
          "base_uri": "https://localhost:8080/"
        },
        "id": "YZAzZuPFr3GY",
        "outputId": "5189e790-082a-4f0b-dc6c-7409f17922b8"
      },
      "execution_count": 156,
      "outputs": [
        {
          "output_type": "stream",
          "name": "stdout",
          "text": [
            "<class 'pandas.core.frame.DataFrame'>\n",
            "RangeIndex: 184500 entries, 0 to 184499\n",
            "Data columns (total 11 columns):\n",
            " #   Column                Non-Null Count   Dtype         \n",
            "---  ------                --------------   -----         \n",
            " 0   reviewId              184500 non-null  object        \n",
            " 1   userName              184500 non-null  object        \n",
            " 2   userImage             184500 non-null  object        \n",
            " 3   content               184500 non-null  object        \n",
            " 4   score                 184500 non-null  int64         \n",
            " 5   thumbsUpCount         184500 non-null  int64         \n",
            " 6   reviewCreatedVersion  160903 non-null  object        \n",
            " 7   at                    184500 non-null  datetime64[ns]\n",
            " 8   replyContent          32561 non-null   object        \n",
            " 9   repliedAt             32561 non-null   datetime64[ns]\n",
            " 10  appVersion            160903 non-null  object        \n",
            "dtypes: datetime64[ns](2), int64(2), object(7)\n",
            "memory usage: 15.5+ MB\n"
          ]
        }
      ]
    },
    {
      "cell_type": "code",
      "source": [
        "# Menghapus nilai kosong dari DataFrame\n",
        "df_cleaned = review_df.dropna()\n",
        "\n",
        "# Menghapus duplikasi berdasarkan kolom 'content' (isi ulasan)\n",
        "df_cleaned = df_cleaned.drop_duplicates(subset='content')\n",
        "\n",
        "# Menampilkan informasi dataset\n",
        "df_cleaned.info()"
      ],
      "metadata": {
        "colab": {
          "base_uri": "https://localhost:8080/"
        },
        "id": "hRRIvYzIvY9x",
        "outputId": "65586421-4e5e-45d5-b732-a0d2f0da3279"
      },
      "execution_count": 166,
      "outputs": [
        {
          "output_type": "stream",
          "name": "stdout",
          "text": [
            "<class 'pandas.core.frame.DataFrame'>\n",
            "Index: 23956 entries, 0 to 177812\n",
            "Data columns (total 11 columns):\n",
            " #   Column                Non-Null Count  Dtype         \n",
            "---  ------                --------------  -----         \n",
            " 0   reviewId              23956 non-null  object        \n",
            " 1   userName              23956 non-null  object        \n",
            " 2   userImage             23956 non-null  object        \n",
            " 3   content               23956 non-null  object        \n",
            " 4   score                 23956 non-null  int64         \n",
            " 5   thumbsUpCount         23956 non-null  int64         \n",
            " 6   reviewCreatedVersion  23956 non-null  object        \n",
            " 7   at                    23956 non-null  datetime64[ns]\n",
            " 8   replyContent          23956 non-null  object        \n",
            " 9   repliedAt             23956 non-null  datetime64[ns]\n",
            " 10  appVersion            23956 non-null  object        \n",
            "dtypes: datetime64[ns](2), int64(2), object(7)\n",
            "memory usage: 2.2+ MB\n"
          ]
        }
      ]
    },
    {
      "cell_type": "code",
      "source": [
        "# Menghitung jumlah baris dan kolom dalam DataFrame\n",
        "jumlah_ulasan, jumlah_kolom = df_cleaned.shape\n",
        "df_cleaned.shape"
      ],
      "metadata": {
        "colab": {
          "base_uri": "https://localhost:8080/"
        },
        "id": "S_EIgF8BvoD4",
        "outputId": "19afccb5-6019-45a2-f005-b0a9cf53e31c"
      },
      "execution_count": 167,
      "outputs": [
        {
          "output_type": "execute_result",
          "data": {
            "text/plain": [
              "(23956, 11)"
            ]
          },
          "metadata": {},
          "execution_count": 167
        }
      ]
    },
    {
      "cell_type": "markdown",
      "source": [
        "# **4. Mengeksport Data**\n",
        "\n",
        "Simpan hasilnya ke dalam file CSV."
      ],
      "metadata": {
        "id": "jaYP1fx5VgWO"
      }
    },
    {
      "cell_type": "code",
      "source": [
        "# Mengekspor hasil bersih ke file CSV\n",
        "df_cleaned.to_csv('gopay_reviews_cleaned.csv', index=False, encoding='utf-8-sig')"
      ],
      "metadata": {
        "id": "fkbg_o80aRSH"
      },
      "execution_count": 168,
      "outputs": []
    }
  ]
}